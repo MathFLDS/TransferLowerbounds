{
 "cells": [
  {
   "cell_type": "code",
   "execution_count": 1,
   "metadata": {},
   "outputs": [
    {
     "name": "stdout",
     "output_type": "stream",
     "text": [
      "WARNING:tensorflow:From /home/ec2-user/anaconda3/envs/tensorflow_p36/lib/python3.6/site-packages/tensorflow_core/__init__.py:1473: The name tf.estimator.inputs is deprecated. Please use tf.compat.v1.estimator.inputs instead.\n",
      "\n"
     ]
    }
   ],
   "source": [
    "import math\n",
    "import numpy as np\n",
    "import h5py\n",
    "import pandas as pd\n",
    "from numpy import genfromtxt\n",
    "import matplotlib.pyplot as plt\n",
    "import tensorflow.compat.v1 as tf\n",
    "from tensorflow.python.framework import ops\n",
    "from tf_utils import  random_mini_batches, convert_to_one_hot, predict, loading_train_test, loading_source_new, loading_target1, loading_target2, loading_target3, loading_sketch, loading_clipart \n",
    "from sklearn.covariance import EmpiricalCovariance"
   ]
  },
  {
   "cell_type": "code",
   "execution_count": 2,
   "metadata": {},
   "outputs": [],
   "source": [
    "#Loading the data\n",
    "X_source, Y_source, X_test_source1, Y_test_source1= loading_clipart()\n",
    "X_target1, Y_target1, X_test_target1, Y_test_target1  = loading_sketch()"
   ]
  },
  {
   "cell_type": "code",
   "execution_count": 3,
   "metadata": {},
   "outputs": [],
   "source": [
    "#Converting to numpy array\n",
    "X_source=X_source.to_numpy()\n",
    "Y_source=Y_source.to_numpy()\n",
    "X_test_source1=X_test_source1.to_numpy()\n",
    "Y_test_source1=Y_test_source1.to_numpy()\n",
    "\n",
    "X_target1=X_target1.to_numpy()\n",
    "Y_target1=Y_target1.to_numpy()\n",
    "X_test_target1=X_test_target1.to_numpy()\n",
    "Y_test_target1=Y_test_target1.to_numpy()"
   ]
  },
  {
   "cell_type": "code",
   "execution_count": 4,
   "metadata": {},
   "outputs": [],
   "source": [
    "Y_source=Y_source-1\n",
    "Y_test_source1=Y_test_source1-1\n",
    "Y_target1=Y_target1-1\n",
    "Y_test_target1=Y_test_target1-1"
   ]
  },
  {
   "cell_type": "code",
   "execution_count": 5,
   "metadata": {},
   "outputs": [
    {
     "name": "stdout",
     "output_type": "stream",
     "text": [
      "(2048, 34019)\n",
      "(345, 34019)\n",
      "(2048, 14814)\n",
      "(345, 14814)\n",
      "(2048, 49115)\n",
      "(345, 49115)\n",
      "(2048, 21271)\n",
      "(345, 21271)\n",
      "<class 'numpy.ndarray'>\n",
      "<class 'numpy.ndarray'>\n",
      "<class 'numpy.ndarray'>\n",
      "<class 'numpy.ndarray'>\n",
      "<class 'numpy.ndarray'>\n",
      "<class 'numpy.ndarray'>\n"
     ]
    }
   ],
   "source": [
    "Y_source=Y_source.astype(int)\n",
    "Y_test_source1=Y_test_source1.astype(int)\n",
    "Y_target1=Y_target1.astype(int)\n",
    "Y_test_target1=Y_test_target1.astype(int)\n",
    "\n",
    "Y_source = np.eye(345)[Y_source.reshape(-1)].T\n",
    "\n",
    "Y_test_source1= np.eye(345)[Y_test_source1.reshape(-1)].T\n",
    "Y_target1 = np.eye(345)[Y_target1.reshape(-1)].T\n",
    "\n",
    "Y_test_target1 = np.eye(345)[Y_test_target1.reshape(-1)].T\n",
    "\n",
    "X_source=X_source.T\n",
    "X_test_source1=X_test_source1.T\n",
    "X_target1=X_target1.T\n",
    "X_test_target1=X_test_target1.T\n",
    "\n",
    "\n"
   ]
  },
  {
   "cell_type": "code",
   "execution_count": 6,
   "metadata": {},
   "outputs": [
    {
     "name": "stdout",
     "output_type": "stream",
     "text": [
      "(2048, 2048)\n",
      "(2048, 2048)\n"
     ]
    }
   ],
   "source": [
    "#Estimating the covariance matrix\n",
    "cov_source = np.cov(X_source)\n",
    "cov_target = np.cov(X_target1)\n",
    "print(cov_source.shape)\n",
    "print(cov_target.shape)"
   ]
  },
  {
   "cell_type": "code",
   "execution_count": 7,
   "metadata": {},
   "outputs": [],
   "source": [
    "def create_placeholders(n_x, n_y):\n",
    "    \"\"\"\n",
    "    Creates the placeholders for the tensorflow session.\n",
    "    \n",
    "    Arguments:\n",
    "    n_x -- scalar, size of an image vector (num_px * num_px = 64 * 64 * 3 = 12288)\n",
    "    n_y -- scalar, number of classes (from 0 to 5, so -> 6)\n",
    "    \n",
    "    Returns:\n",
    "    X -- placeholder for the data input, of shape [n_x, None] and dtype \"tf.float32\"\n",
    "    Y -- placeholder for the input labels, of shape [n_y, None] and dtype \"tf.float32\"\n",
    "    \n",
    "    Tips:\n",
    "    - You will use None because it let's us be flexible on the number of examples you will for the placeholders.\n",
    "      In fact, the number of examples during test/train is different.\n",
    "    \"\"\"\n",
    "\n",
    "    ### START CODE HERE ### (approx. 2 lines)\n",
    "    X = tf.placeholder(tf.float32, shape=[n_x, None])\n",
    "    Y = tf.placeholder(tf.float32, shape=[n_y, None])\n",
    "    ### END CODE HERE ###\n",
    "    \n",
    "    return X, Y"
   ]
  },
  {
   "cell_type": "code",
   "execution_count": 8,
   "metadata": {},
   "outputs": [],
   "source": [
    "def initialize_parameters_source():\n",
    "    \"\"\"\n",
    "    Initializes parameters to build a neural network with tensorflow. The shapes are:\n",
    "                        W1 : [25, 12288]\n",
    "                        b1 : [25, 1]\n",
    "                        W2 : [6, 25]\n",
    "                        b2 : [6, 1]\n",
    "                        \n",
    "    \n",
    "    Returns:\n",
    "    parameters -- a dictionary of tensors containing W1, b1, W2, b2\n",
    "    \"\"\"\n",
    "    \n",
    "    tf.set_random_seed(1)                   \n",
    "        \n",
    "    \n",
    "    W1 = tf.get_variable(\"W1\", [40000,2048], initializer = tf.glorot_uniform_initializer(seed = 1))\n",
    "    b1 = tf.get_variable(\"b1\", [40000,1], initializer = tf.zeros_initializer())\n",
    "    W2 = tf.get_variable(\"W2\", [345,40000], initializer = tf.glorot_uniform_initializer(seed = 1))\n",
    "    b2 = tf.get_variable(\"b2\", [345,1], initializer = tf.zeros_initializer())\n",
    "    ### END CODE HERE ###\n",
    "\n",
    "    parameters = {\"W1\": W1,\n",
    "                  \"b1\": b1,\n",
    "                  \"W2\": W2,\n",
    "                  \"b2\": b2,\n",
    "                  }\n",
    "    \n",
    "    return parameters"
   ]
  },
  {
   "cell_type": "code",
   "execution_count": 9,
   "metadata": {},
   "outputs": [],
   "source": [
    "def initialize_parameters_target():\n",
    "    \"\"\"\n",
    "    Initializes parameters to build a neural network with tensorflow. The shapes are:\n",
    "                        W1 : [25, 12288]\n",
    "                        b1 : [25, 1]\n",
    "                        W2 : [6, 25]\n",
    "                        b2 : [6, 1]\n",
    "                        \n",
    "    \n",
    "    Returns:\n",
    "    parameters -- a dictionary of tensors containing W1, b1, W2, b2\n",
    "    \"\"\"\n",
    "    \n",
    "    tf.set_random_seed(1)                   \n",
    "        \n",
    "    \n",
    "    W1 = tf.get_variable(\"W1\", [40000,2048], initializer = tf.glorot_uniform_initializer(seed = 1))\n",
    "    b1 = tf.get_variable(\"b1\", [40000,1], initializer = tf.zeros_initializer())\n",
    "    W2 = tf.get_variable(\"W2\", [345,40000], initializer = tf.glorot_uniform_initializer(seed = 1))\n",
    "    b2 = tf.get_variable(\"b2\", [345,1], initializer = tf.zeros_initializer())\n",
    "    ### END CODE HERE ###\n",
    "\n",
    "    parameters = {\"W1\": W1,\n",
    "                  \"b1\": b1,\n",
    "                  \"W2\": W2,\n",
    "                  \"b2\": b2,\n",
    "                  }\n",
    "    \n",
    "    return parameters"
   ]
  },
  {
   "cell_type": "code",
   "execution_count": 10,
   "metadata": {},
   "outputs": [],
   "source": [
    "def forward_propagation(X, parameters):\n",
    "    \n",
    "    W1 = parameters['W1']\n",
    "    b1 = parameters['b1']\n",
    "    W2 = parameters['W2']\n",
    "    b2 = parameters['b2']\n",
    "   \n",
    "    \n",
    "                  \n",
    "    #Z1 = tf.add(tf.matmul(W1,X),b1)                                             \n",
    "    #A1 = tf.nn.relu(Z1)                                            \n",
    "    #Z2 = tf.add(tf.matmul(W2,A1),b2)   \n",
    "    Z1=tf.matmul(W1,X)\n",
    "    A1= tf.nn.relu(Z1)\n",
    "    Z2 =tf.matmul(W2,A1)\n",
    "    # Z2 =tf.add(tf.matmul(W2,A1),b2)    \n",
    "                                                                                            \n",
    "    \n",
    "    \n",
    "    return Z2"
   ]
  },
  {
   "cell_type": "code",
   "execution_count": 11,
   "metadata": {},
   "outputs": [],
   "source": [
    "def forward_propagation_1(X, parameters):\n",
    "    \n",
    "    W1 = parameters['W1']\n",
    "    b1 = parameters['b1']\n",
    "    W2 = parameters['W2']\n",
    "    b2 = parameters['b2']\n",
    "   \n",
    "    \n",
    "                  \n",
    "    #Z1 = tf.add(tf.matmul(W1,X),b1)                                             \n",
    "    #A1 = tf.nn.relu(Z1)                                            \n",
    "    #Z2 = tf.add(tf.matmul(W2,A1),b2)   \n",
    "    Z2=tf.matmul(W1,X)\n",
    "    #A1= tf.nn.relu(Z1)\n",
    "    #Z2 =tf.matmul(W2,A1)\n",
    "    # Z2 =tf.add(tf.matmul(W2,A1),b2)    \n",
    "                                                                                            \n",
    "    \n",
    "    \n",
    "    return Z2"
   ]
  },
  {
   "cell_type": "code",
   "execution_count": 12,
   "metadata": {},
   "outputs": [],
   "source": [
    "def compute_cost1(Z2, Y):\n",
    "    \n",
    "    \n",
    "    cost1=tf.square(Y-Z2)\n",
    "    #logits = tf.transpose(Z2)\n",
    "    #labels = tf.transpose(Y)\n",
    "    #cost = tf.reduce_mean(tf.nn.softmax_cross_entropy_with_logits(logits = logits, labels = labels))\n",
    "    \n",
    "    return cost1"
   ]
  },
  {
   "cell_type": "code",
   "execution_count": 14,
   "metadata": {},
   "outputs": [],
   "source": [
    "def compute_cost(Z2, Y):\n",
    "    \n",
    "    \n",
    "    cost1=tf.reduce_mean(tf.square(Y-Z2))\n",
    "    #logits = tf.transpose(Z2)\n",
    "    #labels = tf.transpose(Y)\n",
    "    #cost = tf.reduce_mean(tf.nn.softmax_cross_entropy_with_logits(logits = logits, labels = labels))\n",
    "    \n",
    "    return cost1"
   ]
  },
  {
   "cell_type": "code",
   "execution_count": 15,
   "metadata": {},
   "outputs": [],
   "source": [
    "def model(X_train, Y_train,X_test, Y_test, learning_rate = 0.0001,\n",
    "          num_epochs = 220, minibatch_size = 128, print_cost = True, source=True, target=True):\n",
    "    \"\"\"\n",
    "    \n",
    "    \n",
    "    Arguments:\n",
    "    X_train -- training set, of shape (input size = 12288, number of training examples = 1080)\n",
    "    Y_train -- test set, of shape (output size = 6, number of training examples = 1080)\n",
    "    X_test -- training set, of shape (input size = 12288, number of training examples = 120)\n",
    "    Y_test -- test set, of shape (output size = 6, number of test examples = 120)\n",
    "    learning_rate -- learning rate of the optimization\n",
    "    num_epochs -- number of epochs of the optimization loop\n",
    "    minibatch_size -- size of a minibatch\n",
    "    print_cost -- True to print the cost every 100 epochs\n",
    "    \n",
    "    Returns:\n",
    "    parameters -- parameters learnt by the model. They can then be used to predict.\n",
    "    \"\"\"\n",
    "    \n",
    "    ops.reset_default_graph()                         # to be able to rerun the model without overwriting tf variables                            # to keep consistent results\n",
    "    seed = 3                                          # to keep consistent results\n",
    "    (n_x, m) = X_train.shape                          # (n_x: input size, m : number of examples in the train set)\n",
    "    n_y = Y_train.shape[0]                            # n_y : output size\n",
    "    costs = []                                        # To keep track of the cost\n",
    "    \n",
    "    # Create Placeholders of shape (n_x, n_y)\n",
    "    \n",
    "    X, Y = create_placeholders(n_x, n_y)\n",
    "   \n",
    "\n",
    "    # Initialize parameters\n",
    "    if source==True and target==False:  \n",
    "        parameters = initialize_parameters_source()\n",
    "        print(\"source\")\n",
    "    if source==False and target==True:\n",
    "        parameters = initialize_parameters_target()\n",
    "        print(\"target\")\n",
    "   # if Method2==True and Method3==False:\n",
    "    #    parameters=initialize_parameters_target_method2()\n",
    "     #   print(Method2)\n",
    "    #if Method3==True and Method2==False:\n",
    "     #   parameters=initialize_parameters_target_method3()\n",
    "      #  print(\"Method3\")\n",
    "        \n",
    "    \n",
    "    # Forward propagation\n",
    "   \n",
    "    Z2 = forward_propagation(X, parameters)\n",
    "    \n",
    "    \n",
    "    # Cost function: Add cost function to tensorflow graph\n",
    "    \n",
    "    cost = compute_cost(Z2, Y)\n",
    "    cost1 = compute_cost1(Z2, Y)\n",
    "    \n",
    "    \n",
    "    # Backpropagation: Define the tensorflow optimizer.\n",
    "    \n",
    "    optimizer = tf.train.AdamOptimizer(learning_rate = learning_rate).minimize(cost)\n",
    "    \n",
    "    \n",
    "    # Initialize all the variables\n",
    "    init = tf.global_variables_initializer()\n",
    "\n",
    "    # Start the session to compute the tensorflow graph\n",
    "    with tf.Session() as sess:\n",
    "        \n",
    "        # Run the initialization\n",
    "        sess.run(init)\n",
    "        \n",
    "        # Do the training loop\n",
    "        for epoch in range(num_epochs):\n",
    "\n",
    "            epoch_cost = 0.                       # Defines a cost related to an epoch\n",
    "            num_minibatches = int(m / minibatch_size) # number of minibatches of size minibatch_size in the train set\n",
    "            seed = seed + 1\n",
    "            minibatches = random_mini_batches(X_train, Y_train, minibatch_size, seed)\n",
    "\n",
    "            for minibatch in minibatches:\n",
    "\n",
    "                # Select a minibatch\n",
    "                (minibatch_X, minibatch_Y) = minibatch\n",
    "                \n",
    "                # IMPORTANT: The line that runs the graph on a minibatch.\n",
    "                # Run the session to execute the \"optimizer\" and the \"cost\", the feedict should contain a minibatch for (X,Y).\n",
    "                ### START CODE HERE ### (1 line)\n",
    "                _ , minibatch_cost = sess.run([optimizer, cost], feed_dict={X: minibatch_X, Y: minibatch_Y})\n",
    "                ### END CODE HERE ###\n",
    "                \n",
    "                epoch_cost += minibatch_cost / minibatch_size\n",
    "\n",
    "            # Print the cost every epoch\n",
    "            if print_cost == True and epoch % 10 == 0:\n",
    "                print (\"Cost after epoch %i: %f\" % (epoch, epoch_cost))\n",
    "            if print_cost == True and epoch % 5 == 0:\n",
    "                costs.append(epoch_cost)\n",
    "                \n",
    "        # plot the cost\n",
    "        plt.plot(np.squeeze(costs))\n",
    "        plt.ylabel('cost')\n",
    "        plt.xlabel('iterations (per fives)')\n",
    "        plt.title(\"Learning rate =\" + str(learning_rate))\n",
    "        plt.show()\n",
    "\n",
    "        # lets save the parameters in a variable\n",
    "        parameters = sess.run(parameters)\n",
    "        print (\"Parameters have been trained!\")\n",
    "       \n",
    "        \n",
    "        \n",
    "        #hello = sess.run(cost, feed_dict={X: X_test, Y: Y_test})\n",
    "            \n",
    "        \n",
    "        Error1 = sess.run(cost1, feed_dict={X: X_test, Y: Y_test})\n",
    "        #Error1 = sess.run(cost1, feed_dict={X_target: X_test_target, Y_target: Y_test_target})\n",
    "        y11=np.sum(Error1, axis=0)\n",
    "        y11_mean=np.mean(y11)\n",
    "        print(y11_mean)\n",
    "\n",
    "        # Calculate the correct predictions\n",
    "        correct_prediction = tf.equal(tf.argmax(Z2), tf.argmax(Y))\n",
    "\n",
    "        # Calculate accuracy on the test set\n",
    "        accuracy = tf.reduce_mean(tf.cast(correct_prediction, \"float\"))\n",
    "\n",
    "        print (\"Train Accuracy:\", accuracy.eval({X: X_train, Y: Y_train}))\n",
    "        print (\"Test Accuracy:\", accuracy.eval({X: X_test, Y: Y_test}))\n",
    "        \n",
    "        return parameters, Error1, y11_mean"
   ]
  },
  {
   "cell_type": "code",
   "execution_count": 18,
   "metadata": {},
   "outputs": [
    {
     "name": "stdout",
     "output_type": "stream",
     "text": [
      "source\n",
      "Cost after epoch 0: 0.026439\n",
      "Cost after epoch 10: 0.002314\n",
      "Cost after epoch 20: 0.000923\n",
      "Cost after epoch 30: 0.000418\n",
      "Cost after epoch 40: 0.000295\n",
      "Cost after epoch 50: 0.000249\n",
      "Cost after epoch 60: 0.000221\n",
      "Cost after epoch 70: 0.000207\n",
      "Cost after epoch 80: 0.000195\n",
      "Cost after epoch 90: 0.000187\n",
      "Cost after epoch 100: 0.000182\n",
      "Cost after epoch 110: 0.000174\n",
      "Cost after epoch 120: 0.000170\n",
      "Cost after epoch 130: 0.000166\n",
      "Cost after epoch 140: 0.000163\n",
      "Cost after epoch 150: 0.000161\n",
      "Cost after epoch 160: 0.000158\n",
      "Cost after epoch 170: 0.000155\n",
      "Cost after epoch 180: 0.000152\n",
      "Cost after epoch 190: 0.000151\n",
      "Cost after epoch 200: 0.000148\n",
      "Cost after epoch 210: 0.000146\n"
     ]
    },
    {
     "data": {
      "image/png": "[encoded data removed]",
      "text/plain": [
       "<Figure size 432x288 with 1 Axes>"
      ]
     },
     "metadata": {
      "needs_background": "light"
     },
     "output_type": "display_data"
    },
    {
     "name": "stdout",
     "output_type": "stream",
     "text": [
      "Parameters have been trained!\n",
      "0.54902345\n",
      "Train Accuracy: 0.9840089\n",
      "Test Accuracy: 0.6576887\n"
     ]
    }
   ],
   "source": [
    "parameters, Error1, y11_mean = model(X_source, Y_source,X_test_source1,Y_test_source1,source=True, target=False)"
   ]
  },
  {
   "cell_type": "code",
   "execution_count": 19,
   "metadata": {},
   "outputs": [],
   "source": [
    "parameterssource=parameters"
   ]
  },
  {
   "cell_type": "code",
   "execution_count": 21,
   "metadata": {},
   "outputs": [
    {
     "name": "stdout",
     "output_type": "stream",
     "text": [
      "target\n",
      "Cost after epoch 0: 0.026924\n",
      "Cost after epoch 10: 0.004274\n",
      "Cost after epoch 20: 0.001716\n",
      "Cost after epoch 30: 0.000764\n",
      "Cost after epoch 40: 0.000531\n",
      "Cost after epoch 50: 0.000442\n",
      "Cost after epoch 60: 0.000387\n",
      "Cost after epoch 70: 0.000348\n",
      "Cost after epoch 80: 0.000321\n",
      "Cost after epoch 90: 0.000300\n",
      "Cost after epoch 100: 0.000282\n",
      "Cost after epoch 110: 0.000267\n",
      "Cost after epoch 120: 0.000255\n",
      "Cost after epoch 130: 0.000245\n",
      "Cost after epoch 140: 0.000234\n",
      "Cost after epoch 150: 0.000229\n",
      "Cost after epoch 160: 0.000222\n",
      "Cost after epoch 170: 0.000215\n",
      "Cost after epoch 180: 0.000210\n",
      "Cost after epoch 190: 0.000205\n",
      "Cost after epoch 200: 0.000202\n",
      "Cost after epoch 210: 0.000196\n"
     ]
    },
    {
     "data": {
      "image/png": "[encoded data removed]",
      "text/plain": [
       "<Figure size 432x288 with 1 Axes>"
      ]
     },
     "metadata": {
      "needs_background": "light"
     },
     "output_type": "display_data"
    },
    {
     "name": "stdout",
     "output_type": "stream",
     "text": [
      "Parameters have been trained!\n",
      "0.6781151\n",
      "Train Accuracy: 0.9896162\n",
      "Test Accuracy: 0.5123407\n"
     ]
    }
   ],
   "source": [
    "parameterstarget, Error_target, e1=model(X_target1, Y_target1,X_test_target1,Y_test_target1,source=False, target=True)"
   ]
  },
  {
   "cell_type": "code",
   "execution_count": 22,
   "metadata": {},
   "outputs": [
    {
     "name": "stdout",
     "output_type": "stream",
     "text": [
      "r_T 2.5883949\n",
      "r_S 2.24731492996224\n"
     ]
    }
   ],
   "source": [
    "from scipy.linalg import sqrtm\n",
    "from numpy import linalg\n",
    "u_t, s_t, vh_t = np.linalg.svd(parameterstarget[\"W2\"], full_matrices=True)\n",
    "u_s, s_s, vh_s = np.linalg.svd(parameterssource[\"W2\"], full_matrices=True)\n",
    "u_s1, s_s1, vh_s1 = np.linalg.svd(np.dot(sqrtm(cov_source),np.linalg.pinv(sqrtm(cov_source))), full_matrices=True)\n",
    "S_T1=np.abs(s_t)\n",
    "S_S1=np.abs(s_s)\n",
    "S_S2=np.abs(s_s1)\n",
    "r_T=np.max(S_T1)*np.max(S_T1)\n",
    "r_S=np.max(S_S1)*np.max(S_S1)*np.max(S_S2)*np.max(S_S2)\n",
    "print(\"r_T\",r_T)\n",
    "print(\"r_S\",r_S)"
   ]
  },
  {
   "cell_type": "code",
   "execution_count": 23,
   "metadata": {},
   "outputs": [
    {
     "name": "stdout",
     "output_type": "stream",
     "text": [
      "0.24952744\n"
     ]
    }
   ],
   "source": [
    "sigma_min=np.min(S_T1)*np.min(S_T1)\n",
    "print(sigma_min)"
   ]
  },
  {
   "cell_type": "code",
   "execution_count": 24,
   "metadata": {},
   "outputs": [
    {
     "name": "stdout",
     "output_type": "stream",
     "text": [
      "Delta: 202.15795760792923\n"
     ]
    }
   ],
   "source": [
    "A=np.dot(sqrtm(cov_target),parameterssource[\"W1\"].T-parameterstarget[\"W1\"].T)\n",
    "Delta=linalg.norm(A,'fro')\n",
    "print(\"Delta:\", Delta)"
   ]
  },
  {
   "cell_type": "code",
   "execution_count": 26,
   "metadata": {},
   "outputs": [
    {
     "name": "stdout",
     "output_type": "stream",
     "text": [
      "0.54902345\n"
     ]
    }
   ],
   "source": [
    "#computing the noise parameter in the theorem. Since the noise levels of source and target are not equal, we take minimum of them\n",
    "sigma_noise=min(e1,y11_mean)\n",
    "print(sigma_noise)"
   ]
  },
  {
   "cell_type": "code",
   "execution_count": null,
   "metadata": {},
   "outputs": [],
   "source": []
  }
 ],
 "metadata": {
  "kernelspec": {
   "display_name": "conda_tensorflow_p36",
   "language": "python",
   "name": "conda_tensorflow_p36"
  },
  "language_info": {
   "codemirror_mode": {
    "name": "ipython",
    "version": 3
   },
   "file_extension": ".py",
   "mimetype": "text/x-python",
   "name": "python",
   "nbconvert_exporter": "python",
   "pygments_lexer": "ipython3",
   "version": "3.6.10"
  }
 },
 "nbformat": 4,
 "nbformat_minor": 4
}
