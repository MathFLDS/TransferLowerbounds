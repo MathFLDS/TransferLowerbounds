{
 "cells": [
  {
   "cell_type": "markdown",
   "metadata": {},
   "source": [
    "# Minimax Lower Bounds for Transfer Learning with Linear and One-hidden Layer Neural Networks\n",
    "\n",
    "This Jupyter Notebook reproduces the numerical results in the paper *Minimax Lower Bounds for Transfer Learning with Linear and One-hidden Layer Neural Networks*. Before running this notebook, you need to install dependencies and download the datasets as described in the README. \n",
    "\n",
    "Each training task should take a couple of minutes to load the necessary training data before producing any output. \n",
    "\n",
    "Total run-time: about 15 minutes on a modern laptop."
   ]
  },
  {
   "cell_type": "code",
   "execution_count": 1,
   "metadata": {
    "pycharm": {
     "is_executing": false,
     "name": "#%% Imports\n"
    }
   },
   "outputs": [],
   "source": [
    "import os\n",
    "from pathlib import Path\n",
    "import numpy as np\n",
    "import matplotlib.pyplot as plt"
   ]
  },
  {
   "cell_type": "markdown",
   "metadata": {},
   "source": [
    "In the following cell, set **DATASET_PATH** to the root folder you downloaded the datasets. The location set by **CHECKPOINT_PATH** will be used to save trained models and output data (about 100MB total). "
   ]
  },
  {
   "cell_type": "code",
   "execution_count": 2,
   "metadata": {
    "pycharm": {
     "is_executing": false,
     "name": "#%% Folder setup\n"
    }
   },
   "outputs": [],
   "source": [
    "DATASET_PATH = 'datasets' # Change this to the path to datasets root directory  \n",
    "CHECKPOINTS_PATH = 'checkpoints'  # Checkpoints will be saved in this folder"
   ]
  },
  {
   "cell_type": "markdown",
   "metadata": {},
   "source": [
    "First, we train a model on the source task *cat breeds*:"
   ]
  },
  {
   "cell_type": "code",
   "execution_count": 3,
   "metadata": {
    "pycharm": {
     "is_executing": false,
     "name": "#%% Train source model\n"
    },
    "scrolled": true
   },
   "outputs": [
    {
     "name": "stdout",
     "output_type": "stream",
     "text": [
      "2020-05-29 12:28:45.839679: I tensorflow/core/platform/cpu_feature_guard.cc:145] This TensorFlow binary is optimized with Intel(R) MKL-DNN to use the following CPU instructions in performance critical operations:  SSE4.1 SSE4.2 AVX AVX2 FMA\n",
      "To enable them in non-MKL-DNN operations, rebuild TensorFlow with the appropriate compiler flags.\n",
      "2020-05-29 12:28:45.840046: I tensorflow/core/common_runtime/process_util.cc:115] Creating new thread pool with default inter op setting: 12. Tune using inter_op_parallelism_threads for best performance.\n",
      "Input shape:  (1620, 25088)\n",
      "Model: \"one_hidden\"\n",
      "_________________________________________________________________\n",
      "Layer (type)                 Output Shape              Param #   \n",
      "=================================================================\n",
      "hidden_layer (Linear)        multiple                  802848    \n",
      "_________________________________________________________________\n",
      "output_layer (Linear)        multiple                  165       \n",
      "=================================================================\n",
      "Total params: 803,013\n",
      "Trainable params: 802,848\n",
      "Non-trainable params: 165\n",
      "_________________________________________________________________\n",
      "val loss = 0.28600964 val accuracy = 0.24198718\n",
      "epoch 0: train mean loss = 0.3048781 train accuracy = 0.245679\n",
      "epoch 1: train mean loss = 0.24063754 train accuracy = 0.34567901\n",
      "epoch 2: train mean loss = 0.20382969 train accuracy = 0.41234568\n",
      "epoch 3: train mean loss = 0.17748822 train accuracy = 0.48518518\n",
      "epoch 4: train mean loss = 0.15817839 train accuracy = 0.53765434\n",
      "epoch 5: train mean loss = 0.14172691 train accuracy = 0.59753084\n",
      "epoch 6: train mean loss = 0.12793101 train accuracy = 0.6419753\n",
      "epoch 7: train mean loss = 0.11593321 train accuracy = 0.6864197\n",
      "epoch 8: train mean loss = 0.10602807 train accuracy = 0.72407407\n",
      "epoch 9: train mean loss = 0.0968419 train accuracy = 0.75493824\n",
      "val loss = 0.21659134 val accuracy = 0.4415064\n",
      "epoch 10: train mean loss = 0.08977877 train accuracy = 0.7888889\n",
      "epoch 11: train mean loss = 0.08238765 train accuracy = 0.8104938\n",
      "epoch 12: train mean loss = 0.07649938 train accuracy = 0.8358025\n",
      "epoch 13: train mean loss = 0.07011856 train accuracy = 0.85123456\n",
      "epoch 14: train mean loss = 0.06536789 train accuracy = 0.8660494\n",
      "epoch 15: train mean loss = 0.06100116 train accuracy = 0.8833333\n",
      "epoch 16: train mean loss = 0.056344483 train accuracy = 0.8993827\n",
      "epoch 17: train mean loss = 0.053582843 train accuracy = 0.90925926\n",
      "epoch 18: train mean loss = 0.049785953 train accuracy = 0.9191358\n",
      "epoch 19: train mean loss = 0.04673607 train accuracy = 0.9327161\n",
      "val loss = 0.2052688 val accuracy = 0.47235575\n",
      "epoch 20: train mean loss = 0.044419233 train accuracy = 0.9425926\n",
      "epoch 21: train mean loss = 0.04140157 train accuracy = 0.94814813\n",
      "epoch 22: train mean loss = 0.039299607 train accuracy = 0.9537037\n",
      "epoch 23: train mean loss = 0.036764853 train accuracy = 0.95987654\n",
      "epoch 24: train mean loss = 0.03480548 train accuracy = 0.962963\n",
      "epoch 25: train mean loss = 0.033143856 train accuracy = 0.97037035\n",
      "epoch 26: train mean loss = 0.03160894 train accuracy = 0.9765432\n",
      "epoch 27: train mean loss = 0.029480176 train accuracy = 0.97962964\n",
      "epoch 28: train mean loss = 0.028101912 train accuracy = 0.9808642\n",
      "epoch 29: train mean loss = 0.027263092 train accuracy = 0.9814815\n",
      "val loss = 0.2011019 val accuracy = 0.4815705\n",
      "epoch 30: train mean loss = 0.025692638 train accuracy = 0.982716\n",
      "epoch 31: train mean loss = 0.024715926 train accuracy = 0.9839506\n",
      "epoch 32: train mean loss = 0.023163715 train accuracy = 0.9858025\n",
      "epoch 33: train mean loss = 0.021991314 train accuracy = 0.9882716\n",
      "epoch 34: train mean loss = 0.020974632 train accuracy = 0.9895062\n",
      "epoch 35: train mean loss = 0.020232469 train accuracy = 0.99012345\n",
      "epoch 36: train mean loss = 0.019360952 train accuracy = 0.9907407\n",
      "epoch 37: train mean loss = 0.018558519 train accuracy = 0.9919753\n",
      "epoch 38: train mean loss = 0.01791953 train accuracy = 0.9925926\n",
      "epoch 39: train mean loss = 0.017027088 train accuracy = 0.9932099\n",
      "val loss = 0.1990409 val accuracy = 0.51121795\n",
      "epoch 40: train mean loss = 0.016283395 train accuracy = 0.9932099\n",
      "epoch 41: train mean loss = 0.015579096 train accuracy = 0.99382716\n",
      "epoch 42: train mean loss = 0.015162488 train accuracy = 0.99382716\n",
      "epoch 43: train mean loss = 0.014380381 train accuracy = 0.99444443\n",
      "epoch 44: train mean loss = 0.013929693 train accuracy = 0.99444443\n",
      "epoch 45: train mean loss = 0.013411784 train accuracy = 0.99444443\n",
      "epoch 46: train mean loss = 0.012853385 train accuracy = 0.995679\n",
      "Goal accuracy reached. Stopping training. \n",
      "Final val loss = 0.1982931 val accuracy = 0.5048077\n",
      "Saving model...\n",
      "Done!\n"
     ]
    }
   ],
   "source": [
    "!python train_model.py --checkpoint-path {os.path.join(CHECKPOINTS_PATH, 'source_catbreeds/model')} \\\n",
    "            --data-path {os.path.join(DATASET_PATH,'catbreeds')} \\\n",
    "            --hidden-units 32 \\\n",
    "            --use-bias \\\n",
    "            --freeze-output-layer \\\n",
    "            --epochs 100 \\\n",
    "            --stop-at-acc 0.995 \\\n",
    "            --optimizer adam \\\n",
    "            --lr 0.0001 \\\n",
    "            --shuffle \\\n",
    "            --seed 0 "
   ]
  },
  {
   "cell_type": "markdown",
   "metadata": {},
   "source": [
    "Now we train a separate model for each individual target task.\n",
    "We use the saved source model to load the fixed output layer weights before training, and to make sure that target and source architectures match. The source model's trained weights are not used in any way.\n",
    "Training *big cats*:"
   ]
  },
  {
   "cell_type": "code",
   "execution_count": 4,
   "metadata": {
    "pycharm": {
     "is_executing": false,
     "name": "#%% Train target model: 'big cats'\n"
    }
   },
   "outputs": [
    {
     "name": "stdout",
     "output_type": "stream",
     "text": [
      "2020-05-29 12:30:20.431992: I tensorflow/core/platform/cpu_feature_guard.cc:145] This TensorFlow binary is optimized with Intel(R) MKL-DNN to use the following CPU instructions in performance critical operations:  SSE4.1 SSE4.2 AVX AVX2 FMA\n",
      "To enable them in non-MKL-DNN operations, rebuild TensorFlow with the appropriate compiler flags.\n",
      "2020-05-29 12:30:20.432371: I tensorflow/core/common_runtime/process_util.cc:115] Creating new thread pool with default inter op setting: 12. Tune using inter_op_parallelism_threads for best performance.\n",
      "Input shape:  (1620, 25088)\n",
      "Model: \"one_hidden_1\"\n",
      "_________________________________________________________________\n",
      "Layer (type)                 Output Shape              Param #   \n",
      "=================================================================\n",
      "hidden_layer (Linear)        multiple                  802848    \n",
      "_________________________________________________________________\n",
      "output_layer (Linear)        multiple                  165       \n",
      "=================================================================\n",
      "Total params: 803,013\n",
      "Trainable params: 802,848\n",
      "Non-trainable params: 165\n",
      "_________________________________________________________________\n",
      "val loss = 0.25079572 val accuracy = 0.2684295\n",
      "epoch 0: train mean loss = 0.26987818 train accuracy = 0.25925925\n",
      "epoch 1: train mean loss = 0.17508039 train accuracy = 0.49814814\n",
      "epoch 2: train mean loss = 0.13481186 train accuracy = 0.60555553\n",
      "epoch 3: train mean loss = 0.11059046 train accuracy = 0.7024691\n",
      "epoch 4: train mean loss = 0.09358588 train accuracy = 0.77098763\n",
      "epoch 5: train mean loss = 0.08120307 train accuracy = 0.82345676\n",
      "epoch 6: train mean loss = 0.07136633 train accuracy = 0.8635802\n",
      "epoch 7: train mean loss = 0.06432093 train accuracy = 0.8901235\n",
      "epoch 8: train mean loss = 0.057728667 train accuracy = 0.91049385\n",
      "epoch 9: train mean loss = 0.0518822 train accuracy = 0.9314815\n",
      "val loss = 0.18023318 val accuracy = 0.48076925\n",
      "epoch 10: train mean loss = 0.048008528 train accuracy = 0.945679\n",
      "epoch 11: train mean loss = 0.04370474 train accuracy = 0.95555556\n",
      "epoch 12: train mean loss = 0.040170554 train accuracy = 0.9617284\n",
      "epoch 13: train mean loss = 0.03731331 train accuracy = 0.9697531\n",
      "epoch 14: train mean loss = 0.034328684 train accuracy = 0.9771605\n",
      "epoch 15: train mean loss = 0.032267068 train accuracy = 0.9808642\n",
      "epoch 16: train mean loss = 0.03042722 train accuracy = 0.98703706\n",
      "epoch 17: train mean loss = 0.028330352 train accuracy = 0.99012345\n",
      "epoch 18: train mean loss = 0.026436467 train accuracy = 0.99135804\n",
      "epoch 19: train mean loss = 0.024668047 train accuracy = 0.9919753\n",
      "val loss = 0.16968083 val accuracy = 0.51842946\n",
      "epoch 20: train mean loss = 0.023168135 train accuracy = 0.9925926\n",
      "epoch 21: train mean loss = 0.022093466 train accuracy = 0.9932099\n",
      "epoch 22: train mean loss = 0.020968823 train accuracy = 0.99444443\n",
      "epoch 23: train mean loss = 0.019661065 train accuracy = 0.99506176\n",
      "Goal accuracy reached. Stopping training. \n",
      "Final val loss = 0.1681584 val accuracy = 0.5248397\n",
      "Final model distance:  12.346081112236561\n",
      "Saving model...\n",
      "Done!\n"
     ]
    }
   ],
   "source": [
    "!python train_model.py --checkpoint-path {os.path.join(CHECKPOINTS_PATH, 'bigcats/model')} \\\n",
    "                        --data-path {os.path.join(DATASET_PATH,'bigcats')} \\\n",
    "                        --load-layer \\\n",
    "                        --layer-to-train hidden \\\n",
    "                        --source-checkpoint {os.path.join(CHECKPOINTS_PATH, 'source_catbreeds/model')} \\\n",
    "                        --stop-at-acc  0.995 \\\n",
    "                        --epochs 100 \\\n",
    "                        --optimizer adam \\\n",
    "                        --lr 0.0001 \\\n",
    "                        --shuffle \\\n",
    "                        --seed 0 "
   ]
  },
  {
   "cell_type": "markdown",
   "metadata": {},
   "source": [
    " Training *dog breeds*:\n",
    " We switch two class labels in the *dog breeds* dataset to align similar classes with the source dataset.\n",
    " In *big cats* the default class labeling already provides a good alignment,\n",
    " and the other datasets are semantically too far from the source to\n",
    " find a good class alignment a priori."
   ]
  },
  {
   "cell_type": "code",
   "execution_count": 5,
   "metadata": {
    "pycharm": {
     "is_executing": false,
     "name": "#%% Train target models: 'dog breeds'\n"
    }
   },
   "outputs": [
    {
     "name": "stdout",
     "output_type": "stream",
     "text": [
      "2020-05-29 12:31:36.584293: I tensorflow/core/platform/cpu_feature_guard.cc:145] This TensorFlow binary is optimized with Intel(R) MKL-DNN to use the following CPU instructions in performance critical operations:  SSE4.1 SSE4.2 AVX AVX2 FMA\n",
      "To enable them in non-MKL-DNN operations, rebuild TensorFlow with the appropriate compiler flags.\n",
      "2020-05-29 12:31:36.584663: I tensorflow/core/common_runtime/process_util.cc:115] Creating new thread pool with default inter op setting: 12. Tune using inter_op_parallelism_threads for best performance.\n",
      "Input shape:  (1620, 25088)\n",
      "Model: \"one_hidden_1\"\n",
      "_________________________________________________________________\n",
      "Layer (type)                 Output Shape              Param #   \n",
      "=================================================================\n",
      "hidden_layer (Linear)        multiple                  802848    \n",
      "_________________________________________________________________\n",
      "output_layer (Linear)        multiple                  165       \n",
      "=================================================================\n",
      "Total params: 803,013\n",
      "Trainable params: 802,848\n",
      "Non-trainable params: 165\n",
      "_________________________________________________________________\n",
      "val loss = 0.2875681 val accuracy = 0.2676282\n",
      "epoch 0: train mean loss = 0.3062117 train accuracy = 0.24691358\n",
      "epoch 1: train mean loss = 0.18633427 train accuracy = 0.48271605\n",
      "epoch 2: train mean loss = 0.13644426 train accuracy = 0.6388889\n",
      "epoch 3: train mean loss = 0.10908199 train accuracy = 0.73703706\n",
      "epoch 4: train mean loss = 0.09077216 train accuracy = 0.8191358\n",
      "epoch 5: train mean loss = 0.076431446 train accuracy = 0.8716049\n",
      "epoch 6: train mean loss = 0.06707735 train accuracy = 0.9123457\n",
      "epoch 7: train mean loss = 0.058419578 train accuracy = 0.94012344\n",
      "epoch 8: train mean loss = 0.051758412 train accuracy = 0.95308644\n",
      "epoch 9: train mean loss = 0.04642695 train accuracy = 0.96728396\n",
      "val loss = 0.22518516 val accuracy = 0.4334936\n",
      "epoch 10: train mean loss = 0.041961692 train accuracy = 0.97839504\n",
      "epoch 11: train mean loss = 0.038313635 train accuracy = 0.9845679\n",
      "epoch 12: train mean loss = 0.03456686 train accuracy = 0.98641974\n",
      "epoch 13: train mean loss = 0.03179039 train accuracy = 0.9876543\n",
      "epoch 14: train mean loss = 0.029176744 train accuracy = 0.98888886\n",
      "epoch 15: train mean loss = 0.026764423 train accuracy = 0.9932099\n",
      "epoch 16: train mean loss = 0.024534406 train accuracy = 0.99382716\n",
      "epoch 17: train mean loss = 0.02297178 train accuracy = 0.99382716\n",
      "epoch 18: train mean loss = 0.021278726 train accuracy = 0.99506176\n",
      "Goal accuracy reached. Stopping training. \n",
      "Final val loss = 0.21942268 val accuracy = 0.4451122\n",
      "Final model distance:  11.618599329175604\n",
      "Saving model...\n",
      "Done!\n"
     ]
    }
   ],
   "source": [
    "!python train_model.py --checkpoint-path {os.path.join(CHECKPOINTS_PATH, 'dogbreeds/model')} \\\n",
    "                        --data-path {os.path.join(DATASET_PATH,'dogbreeds')} \\\n",
    "                        --load-layer \\\n",
    "                        --layer-to-train hidden \\\n",
    "                        --source-checkpoint {os.path.join(CHECKPOINTS_PATH, 'source_catbreeds/model')} \\\n",
    "                        --map-train-labels 1 0 2 3 4 \\\n",
    "                        --map-test-labels 1 0 2 3 4 \\\n",
    "                        --stop-at-acc  0.995 \\\n",
    "                        --epochs 100 \\\n",
    "                        --optimizer adam \\\n",
    "                        --lr 0.0001 \\\n",
    "                        --shuffle \\\n",
    "                        --seed 0 "
   ]
  },
  {
   "cell_type": "markdown",
   "metadata": {},
   "source": [
    "Training *butterflies*:"
   ]
  },
  {
   "cell_type": "code",
   "execution_count": 6,
   "metadata": {
    "pycharm": {
     "is_executing": false,
     "name": "#%% Train target models: 'butterflies'\n"
    }
   },
   "outputs": [
    {
     "name": "stdout",
     "output_type": "stream",
     "text": [
      "2020-05-29 12:32:40.527645: I tensorflow/core/platform/cpu_feature_guard.cc:145] This TensorFlow binary is optimized with Intel(R) MKL-DNN to use the following CPU instructions in performance critical operations:  SSE4.1 SSE4.2 AVX AVX2 FMA\n",
      "To enable them in non-MKL-DNN operations, rebuild TensorFlow with the appropriate compiler flags.\n",
      "2020-05-29 12:32:40.528054: I tensorflow/core/common_runtime/process_util.cc:115] Creating new thread pool with default inter op setting: 12. Tune using inter_op_parallelism_threads for best performance.\n",
      "Input shape:  (1620, 25088)\n",
      "Model: \"one_hidden_1\"\n",
      "_________________________________________________________________\n",
      "Layer (type)                 Output Shape              Param #   \n",
      "=================================================================\n",
      "hidden_layer (Linear)        multiple                  802848    \n",
      "_________________________________________________________________\n",
      "output_layer (Linear)        multiple                  165       \n",
      "=================================================================\n",
      "Total params: 803,013\n",
      "Trainable params: 802,848\n",
      "Non-trainable params: 165\n",
      "_________________________________________________________________\n",
      "val loss = 0.20465107 val accuracy = 0.630609\n",
      "epoch 0: train mean loss = 0.2783453 train accuracy = 0.35246915\n",
      "epoch 1: train mean loss = 0.16254473 train accuracy = 0.6333333\n",
      "epoch 2: train mean loss = 0.11928726 train accuracy = 0.7197531\n",
      "epoch 3: train mean loss = 0.095696464 train accuracy = 0.78641975\n",
      "epoch 4: train mean loss = 0.07916136 train accuracy = 0.8388889\n",
      "epoch 5: train mean loss = 0.06702633 train accuracy = 0.86975306\n",
      "epoch 6: train mean loss = 0.057726867 train accuracy = 0.891358\n",
      "epoch 7: train mean loss = 0.05103279 train accuracy = 0.9197531\n",
      "epoch 8: train mean loss = 0.04514794 train accuracy = 0.9308642\n",
      "epoch 9: train mean loss = 0.040254906 train accuracy = 0.9444444\n",
      "val loss = 0.1448072 val accuracy = 0.7395833\n",
      "epoch 10: train mean loss = 0.036708955 train accuracy = 0.95555556\n",
      "epoch 11: train mean loss = 0.033011623 train accuracy = 0.9654321\n",
      "epoch 12: train mean loss = 0.030301183 train accuracy = 0.9697531\n",
      "epoch 13: train mean loss = 0.02806313 train accuracy = 0.97407407\n",
      "epoch 14: train mean loss = 0.025373766 train accuracy = 0.9808642\n",
      "epoch 15: train mean loss = 0.02327289 train accuracy = 0.9858025\n",
      "epoch 16: train mean loss = 0.021545483 train accuracy = 0.9882716\n",
      "epoch 17: train mean loss = 0.020031132 train accuracy = 0.99135804\n",
      "epoch 18: train mean loss = 0.018467842 train accuracy = 0.99135804\n",
      "epoch 19: train mean loss = 0.017158968 train accuracy = 0.9932099\n",
      "val loss = 0.13785337 val accuracy = 0.7616186\n",
      "epoch 20: train mean loss = 0.016101494 train accuracy = 0.9932099\n",
      "epoch 21: train mean loss = 0.0150725525 train accuracy = 0.9932099\n",
      "epoch 22: train mean loss = 0.01421186 train accuracy = 0.99444443\n",
      "epoch 23: train mean loss = 0.0130409105 train accuracy = 0.99444443\n",
      "epoch 24: train mean loss = 0.012271433 train accuracy = 0.99506176\n",
      "Goal accuracy reached. Stopping training. \n",
      "Final val loss = 0.13667554 val accuracy = 0.7668269\n",
      "Final model distance:  13.476666987805517\n",
      "Saving model...\n",
      "Done!\n"
     ]
    }
   ],
   "source": [
    "!python train_model.py --checkpoint-path {os.path.join(CHECKPOINTS_PATH, 'butterflies/model')} \\\n",
    "                        --data-path {os.path.join(DATASET_PATH,'butterflies')} \\\n",
    "                        --load-layer \\\n",
    "                        --layer-to-train hidden \\\n",
    "                        --source-checkpoint {os.path.join(CHECKPOINTS_PATH, 'source_catbreeds/model')} \\\n",
    "                        --stop-at-acc  0.995 \\\n",
    "                        --epochs 100 \\\n",
    "                        --optimizer adam \\\n",
    "                        --lr 0.0001 \\\n",
    "                        --shuffle \\\n",
    "                        --seed 0 "
   ]
  },
  {
   "cell_type": "markdown",
   "metadata": {},
   "source": [
    "Training *planes*:"
   ]
  },
  {
   "cell_type": "code",
   "execution_count": 7,
   "metadata": {
    "pycharm": {
     "is_executing": false,
     "name": "#%% Train target model: 'planes'\n"
    }
   },
   "outputs": [
    {
     "name": "stdout",
     "output_type": "stream",
     "text": [
      "2020-05-29 12:33:55.407284: I tensorflow/core/platform/cpu_feature_guard.cc:145] This TensorFlow binary is optimized with Intel(R) MKL-DNN to use the following CPU instructions in performance critical operations:  SSE4.1 SSE4.2 AVX AVX2 FMA\n",
      "To enable them in non-MKL-DNN operations, rebuild TensorFlow with the appropriate compiler flags.\n",
      "2020-05-29 12:33:55.407654: I tensorflow/core/common_runtime/process_util.cc:115] Creating new thread pool with default inter op setting: 12. Tune using inter_op_parallelism_threads for best performance.\n",
      "Input shape:  (1620, 25088)\n",
      "Model: \"one_hidden_1\"\n",
      "_________________________________________________________________\n",
      "Layer (type)                 Output Shape              Param #   \n",
      "=================================================================\n",
      "hidden_layer (Linear)        multiple                  802848    \n",
      "_________________________________________________________________\n",
      "output_layer (Linear)        multiple                  165       \n",
      "=================================================================\n",
      "Total params: 803,013\n",
      "Trainable params: 802,848\n",
      "Non-trainable params: 165\n",
      "_________________________________________________________________\n",
      "val loss = 0.21643943 val accuracy = 0.35576925\n",
      "epoch 0: train mean loss = 0.261832 train accuracy = 0.26728395\n",
      "epoch 1: train mean loss = 0.16861589 train accuracy = 0.4808642\n",
      "epoch 2: train mean loss = 0.12943389 train accuracy = 0.6006173\n",
      "epoch 3: train mean loss = 0.10545044 train accuracy = 0.7154321\n",
      "epoch 4: train mean loss = 0.08989275 train accuracy = 0.7919753\n",
      "epoch 5: train mean loss = 0.077176705 train accuracy = 0.85617286\n",
      "epoch 6: train mean loss = 0.0684689 train accuracy = 0.89506173\n",
      "epoch 7: train mean loss = 0.06127357 train accuracy = 0.9166667\n",
      "epoch 8: train mean loss = 0.05517421 train accuracy = 0.9364197\n",
      "epoch 9: train mean loss = 0.050339714 train accuracy = 0.94876546\n",
      "val loss = 0.15121347 val accuracy = 0.5813301\n",
      "epoch 10: train mean loss = 0.046231057 train accuracy = 0.95555556\n",
      "epoch 11: train mean loss = 0.04228367 train accuracy = 0.9641975\n",
      "epoch 12: train mean loss = 0.039681382 train accuracy = 0.96666664\n",
      "epoch 13: train mean loss = 0.03695781 train accuracy = 0.9722222\n",
      "epoch 14: train mean loss = 0.034408756 train accuracy = 0.9734568\n",
      "epoch 15: train mean loss = 0.032179 train accuracy = 0.9765432\n",
      "epoch 16: train mean loss = 0.030245047 train accuracy = 0.9808642\n",
      "epoch 17: train mean loss = 0.02810755 train accuracy = 0.9814815\n",
      "epoch 18: train mean loss = 0.02660519 train accuracy = 0.98333335\n",
      "epoch 19: train mean loss = 0.025398863 train accuracy = 0.9858025\n",
      "val loss = 0.1456689 val accuracy = 0.6201923\n",
      "epoch 20: train mean loss = 0.02374912 train accuracy = 0.98703706\n",
      "epoch 21: train mean loss = 0.022570511 train accuracy = 0.9876543\n",
      "epoch 22: train mean loss = 0.021504985 train accuracy = 0.9876543\n",
      "epoch 23: train mean loss = 0.020302497 train accuracy = 0.9876543\n",
      "epoch 24: train mean loss = 0.019151686 train accuracy = 0.98703706\n",
      "epoch 25: train mean loss = 0.018422075 train accuracy = 0.9876543\n",
      "epoch 26: train mean loss = 0.017532019 train accuracy = 0.9882716\n",
      "epoch 27: train mean loss = 0.016825162 train accuracy = 0.9882716\n",
      "epoch 28: train mean loss = 0.016099224 train accuracy = 0.9895062\n",
      "epoch 29: train mean loss = 0.015357588 train accuracy = 0.9882716\n",
      "val loss = 0.14407647 val accuracy = 0.6266026\n",
      "epoch 30: train mean loss = 0.014721566 train accuracy = 0.98703706\n",
      "epoch 31: train mean loss = 0.014065493 train accuracy = 0.9882716\n",
      "epoch 32: train mean loss = 0.013498576 train accuracy = 0.9882716\n",
      "epoch 33: train mean loss = 0.013200364 train accuracy = 0.9882716\n",
      "epoch 34: train mean loss = 0.012559559 train accuracy = 0.98888886\n",
      "epoch 35: train mean loss = 0.012110309 train accuracy = 0.98888886\n",
      "epoch 36: train mean loss = 0.011782914 train accuracy = 0.9895062\n",
      "epoch 37: train mean loss = 0.011390011 train accuracy = 0.9876543\n",
      "epoch 38: train mean loss = 0.010863583 train accuracy = 0.99012345\n",
      "epoch 39: train mean loss = 0.010483678 train accuracy = 0.9907407\n",
      "val loss = 0.14369108 val accuracy = 0.63301283\n",
      "epoch 40: train mean loss = 0.0102022635 train accuracy = 0.9907407\n",
      "epoch 41: train mean loss = 0.009862027 train accuracy = 0.9907407\n",
      "epoch 42: train mean loss = 0.009551469 train accuracy = 0.9919753\n",
      "epoch 43: train mean loss = 0.009100761 train accuracy = 0.9919753\n",
      "epoch 44: train mean loss = 0.008734304 train accuracy = 0.9907407\n",
      "epoch 45: train mean loss = 0.008445406 train accuracy = 0.99135804\n",
      "epoch 46: train mean loss = 0.008293667 train accuracy = 0.98888886\n",
      "epoch 47: train mean loss = 0.008030546 train accuracy = 0.99135804\n",
      "epoch 48: train mean loss = 0.007652441 train accuracy = 0.9895062\n",
      "epoch 49: train mean loss = 0.007573044 train accuracy = 0.99135804\n",
      "val loss = 0.14370489 val accuracy = 0.63301283\n",
      "epoch 50: train mean loss = 0.0072390055 train accuracy = 0.99012345\n",
      "epoch 51: train mean loss = 0.0075183343 train accuracy = 0.99012345\n",
      "epoch 52: train mean loss = 0.00702487 train accuracy = 0.99012345\n",
      "epoch 53: train mean loss = 0.00691778 train accuracy = 0.99135804\n",
      "epoch 54: train mean loss = 0.0065583433 train accuracy = 0.9907407\n",
      "epoch 55: train mean loss = 0.0064791264 train accuracy = 0.9907407\n",
      "epoch 56: train mean loss = 0.006174883 train accuracy = 0.9919753\n",
      "epoch 57: train mean loss = 0.006090974 train accuracy = 0.9919753\n",
      "epoch 58: train mean loss = 0.005986574 train accuracy = 0.9907407\n",
      "epoch 59: train mean loss = 0.005715052 train accuracy = 0.9919753\n",
      "val loss = 0.14400114 val accuracy = 0.62259614\n",
      "epoch 60: train mean loss = 0.0055435044 train accuracy = 0.9919753\n",
      "epoch 61: train mean loss = 0.005642432 train accuracy = 0.99012345\n",
      "epoch 62: train mean loss = 0.005219959 train accuracy = 0.99135804\n",
      "epoch 63: train mean loss = 0.00524188 train accuracy = 0.9919753\n",
      "epoch 64: train mean loss = 0.0050801346 train accuracy = 0.99135804\n",
      "epoch 65: train mean loss = 0.004999689 train accuracy = 0.98888886\n",
      "epoch 66: train mean loss = 0.004762913 train accuracy = 0.9895062\n",
      "epoch 67: train mean loss = 0.004693712 train accuracy = 0.99012345\n",
      "epoch 68: train mean loss = 0.0045709223 train accuracy = 0.9919753\n",
      "epoch 69: train mean loss = 0.0044159233 train accuracy = 0.99012345\n",
      "val loss = 0.14404772 val accuracy = 0.63822114\n",
      "epoch 70: train mean loss = 0.0043715467 train accuracy = 0.99012345\n",
      "epoch 71: train mean loss = 0.0042979573 train accuracy = 0.9907407\n",
      "epoch 72: train mean loss = 0.004214746 train accuracy = 0.99012345\n",
      "epoch 73: train mean loss = 0.004170676 train accuracy = 0.9907407\n",
      "epoch 74: train mean loss = 0.004131249 train accuracy = 0.9895062\n",
      "epoch 75: train mean loss = 0.004273754 train accuracy = 0.9919753\n",
      "epoch 76: train mean loss = 0.003891447 train accuracy = 0.99135804\n",
      "epoch 77: train mean loss = 0.0038260752 train accuracy = 0.99012345\n",
      "epoch 78: train mean loss = 0.003962319 train accuracy = 0.9907407\n",
      "epoch 79: train mean loss = 0.0036797966 train accuracy = 0.99012345\n",
      "val loss = 0.14417966 val accuracy = 0.6498397\n",
      "epoch 80: train mean loss = 0.003637576 train accuracy = 0.99135804\n",
      "epoch 81: train mean loss = 0.0035787076 train accuracy = 0.9895062\n",
      "epoch 82: train mean loss = 0.0034831231 train accuracy = 0.9882716\n",
      "epoch 83: train mean loss = 0.0035432903 train accuracy = 0.98888886\n",
      "epoch 84: train mean loss = 0.0034991936 train accuracy = 0.9895062\n",
      "epoch 85: train mean loss = 0.0033478262 train accuracy = 0.99012345\n",
      "epoch 86: train mean loss = 0.0032180985 train accuracy = 0.9907407\n",
      "epoch 87: train mean loss = 0.0031760165 train accuracy = 0.9907407\n",
      "epoch 88: train mean loss = 0.0032780764 train accuracy = 0.9907407\n",
      "epoch 89: train mean loss = 0.0030785075 train accuracy = 0.99012345\n",
      "val loss = 0.14449354 val accuracy = 0.6498397\n",
      "epoch 90: train mean loss = 0.0031143008 train accuracy = 0.9907407\n",
      "epoch 91: train mean loss = 0.0030288722 train accuracy = 0.9907407\n",
      "epoch 92: train mean loss = 0.002941206 train accuracy = 0.99012345\n",
      "epoch 93: train mean loss = 0.0028956193 train accuracy = 0.9895062\n",
      "epoch 94: train mean loss = 0.0030186302 train accuracy = 0.9876543\n",
      "epoch 95: train mean loss = 0.0030701628 train accuracy = 0.98888886\n",
      "epoch 96: train mean loss = 0.0028011096 train accuracy = 0.9907407\n"
     ]
    },
    {
     "name": "stdout",
     "output_type": "stream",
     "text": [
      "epoch 97: train mean loss = 0.002818961 train accuracy = 0.99135804\n",
      "epoch 98: train mean loss = 0.0027094847 train accuracy = 0.99135804\n",
      "epoch 99: train mean loss = 0.0027785886 train accuracy = 0.9907407\n",
      "Final val loss = 0.14492278 val accuracy = 0.6498397\n",
      "Final model distance:  16.40820744517008\n",
      "Saving model...\n",
      "Done!\n"
     ]
    }
   ],
   "source": [
    "!python train_model.py --checkpoint-path {os.path.join(CHECKPOINTS_PATH, 'planes/model')} \\\n",
    "                        --data-path {os.path.join(DATASET_PATH,'planes')} \\\n",
    "                        --load-layer \\\n",
    "                        --layer-to-train hidden \\\n",
    "                        --source-checkpoint {os.path.join(CHECKPOINTS_PATH, 'source_catbreeds/model')} \\\n",
    "                        --stop-at-acc  0.995 \\\n",
    "                        --epochs 100 \\\n",
    "                        --optimizer adam \\\n",
    "                        --lr 0.0001 \\\n",
    "                        --shuffle \\\n",
    "                        --seed 0 "
   ]
  },
  {
   "cell_type": "markdown",
   "metadata": {},
   "source": [
    "The following cell collects results from previous models in order to reproduce results for Table 1 in the paper:"
   ]
  },
  {
   "cell_type": "code",
   "execution_count": 8,
   "metadata": {
    "pycharm": {
     "is_executing": false,
     "name": "#%% Evaluate distance between source and target models and final validation loss.\n"
    }
   },
   "outputs": [
    {
     "name": "stdout",
     "output_type": "stream",
     "text": [
      "Target  checkpoints/dogbreeds/model : distance=  11.618599329175604  final val. loss:  0.21942268\n",
      "Target  checkpoints/bigcats/model : distance=  12.346081112236561  final val. loss:  0.1681584\n",
      "Target  checkpoints/butterflies/model : distance=  13.476666987805517  final val. loss:  0.13667554\n",
      "Target  checkpoints/planes/model : distance=  16.40820744517008  final val. loss:  0.14492278\n"
     ]
    }
   ],
   "source": [
    "source_checkpoint =  os.path.join(CHECKPOINTS_PATH, 'source_catbreeds/model')\n",
    "target_checkpoints = [os.path.join(CHECKPOINTS_PATH, 'dogbreeds/model'),\n",
    "                      os.path.join(CHECKPOINTS_PATH, 'bigcats/model'),\n",
    "                      os.path.join(CHECKPOINTS_PATH, 'butterflies/model'),\n",
    "                      os.path.join(CHECKPOINTS_PATH, 'planes/model')]\n",
    "\n",
    "for t in target_checkpoints:\n",
    "    target_folder = str(Path(t).parent)\n",
    "    save_path = target_folder+ '/results_'+ str(Path(t).name)+'.npz'\n",
    "    results = np.load(save_path, allow_pickle=True)['arr_0'].item()\n",
    "    final_val_loss = results['val_loss'][-1]\n",
    "    dist = results['distance']\n",
    "    print('Target ', t, ': distance= ', dist, ' final val. loss: ', final_val_loss)"
   ]
  },
  {
   "cell_type": "markdown",
   "metadata": {},
   "source": [
    "Now we test how well the source model performs on the target tasks without using any target examples for training. Train on *cat breeds* and validate on *big cats*:"
   ]
  },
  {
   "cell_type": "code",
   "execution_count": 9,
   "metadata": {
    "pycharm": {
     "is_executing": false,
     "name": "#%% Train source and validate on each target task\n"
    }
   },
   "outputs": [
    {
     "name": "stdout",
     "output_type": "stream",
     "text": [
      "2020-05-29 12:37:06.395180: I tensorflow/core/platform/cpu_feature_guard.cc:145] This TensorFlow binary is optimized with Intel(R) MKL-DNN to use the following CPU instructions in performance critical operations:  SSE4.1 SSE4.2 AVX AVX2 FMA\n",
      "To enable them in non-MKL-DNN operations, rebuild TensorFlow with the appropriate compiler flags.\n",
      "2020-05-29 12:37:06.395545: I tensorflow/core/common_runtime/process_util.cc:115] Creating new thread pool with default inter op setting: 12. Tune using inter_op_parallelism_threads for best performance.\n",
      "Input shape:  (1620, 25088)\n",
      "Model: \"one_hidden\"\n",
      "_________________________________________________________________\n",
      "Layer (type)                 Output Shape              Param #   \n",
      "=================================================================\n",
      "hidden_layer (Linear)        multiple                  802848    \n",
      "_________________________________________________________________\n",
      "output_layer (Linear)        multiple                  165       \n",
      "=================================================================\n",
      "Total params: 803,013\n",
      "Trainable params: 802,848\n",
      "Non-trainable params: 165\n",
      "_________________________________________________________________\n",
      "val loss = 0.2718821 val accuracy = 0.2459936\n",
      "epoch 0: train mean loss = 0.275201 train accuracy = 0.25555557\n",
      "val loss = 0.2679388 val accuracy = 0.23317307\n",
      "epoch 1: train mean loss = 0.21246846 train accuracy = 0.38271606\n",
      "val loss = 0.26478052 val accuracy = 0.24358974\n",
      "epoch 2: train mean loss = 0.17861284 train accuracy = 0.48209876\n",
      "val loss = 0.26204222 val accuracy = 0.24879807\n",
      "epoch 3: train mean loss = 0.15325956 train accuracy = 0.55246913\n",
      "val loss = 0.26122478 val accuracy = 0.27083334\n",
      "epoch 4: train mean loss = 0.13507222 train accuracy = 0.61851853\n",
      "val loss = 0.2608489 val accuracy = 0.265625\n",
      "epoch 5: train mean loss = 0.11893991 train accuracy = 0.6808642\n",
      "val loss = 0.2601157 val accuracy = 0.27083334\n",
      "epoch 6: train mean loss = 0.105513684 train accuracy = 0.7475309\n",
      "val loss = 0.259047 val accuracy = 0.27483973\n",
      "epoch 7: train mean loss = 0.09541909 train accuracy = 0.7882716\n",
      "val loss = 0.2579248 val accuracy = 0.28125\n",
      "epoch 8: train mean loss = 0.085875146 train accuracy = 0.8358025\n",
      "val loss = 0.25832602 val accuracy = 0.27483973\n",
      "epoch 9: train mean loss = 0.07846173 train accuracy = 0.8654321\n",
      "Final val loss = 0.25832602 val accuracy = 0.27483973\n",
      "Saving model...\n",
      "Done!\n"
     ]
    }
   ],
   "source": [
    "!python train_model.py --checkpoint-path {os.path.join(CHECKPOINTS_PATH, 'target_valid/catbreeds_to_bigcats/model')} \\\n",
    "                    --data-path {os.path.join(DATASET_PATH,'bigcats')} \\\n",
    "                    --mix-datasets \\\n",
    "                    --mix-data-path {os.path.join(DATASET_PATH,'catbreeds')} \\\n",
    "                    --hidden-units 32 \\\n",
    "                    --use-bias \\\n",
    "                    --freeze-output-layer \\\n",
    "                    --epochs 10 \\\n",
    "                    --val-freq 1 \\\n",
    "                    --optimizer adam \\\n",
    "                    --lr 0.0001 \\\n",
    "                    --shuffle \\\n",
    "                    --seed 0"
   ]
  },
  {
   "cell_type": "markdown",
   "metadata": {},
   "source": [
    "Train on *cat breeds* and validate on *dog breeds*:"
   ]
  },
  {
   "cell_type": "code",
   "execution_count": 10,
   "metadata": {
    "pycharm": {
     "is_executing": false,
     "name": "#%% Validate on 'dog breeds'\n"
    }
   },
   "outputs": [
    {
     "name": "stdout",
     "output_type": "stream",
     "text": [
      "2020-05-29 12:38:12.107167: I tensorflow/core/platform/cpu_feature_guard.cc:145] This TensorFlow binary is optimized with Intel(R) MKL-DNN to use the following CPU instructions in performance critical operations:  SSE4.1 SSE4.2 AVX AVX2 FMA\n",
      "To enable them in non-MKL-DNN operations, rebuild TensorFlow with the appropriate compiler flags.\n",
      "2020-05-29 12:38:12.107579: I tensorflow/core/common_runtime/process_util.cc:115] Creating new thread pool with default inter op setting: 12. Tune using inter_op_parallelism_threads for best performance.\n",
      "Input shape:  (1620, 25088)\n",
      "Model: \"one_hidden\"\n",
      "_________________________________________________________________\n",
      "Layer (type)                 Output Shape              Param #   \n",
      "=================================================================\n",
      "hidden_layer (Linear)        multiple                  802848    \n",
      "_________________________________________________________________\n",
      "output_layer (Linear)        multiple                  165       \n",
      "=================================================================\n",
      "Total params: 803,013\n",
      "Trainable params: 802,848\n",
      "Non-trainable params: 165\n",
      "_________________________________________________________________\n",
      "val loss = 0.30716613 val accuracy = 0.2139423\n",
      "epoch 0: train mean loss = 0.275201 train accuracy = 0.25555557\n",
      "val loss = 0.29478163 val accuracy = 0.21514423\n",
      "epoch 1: train mean loss = 0.21246846 train accuracy = 0.38271606\n",
      "val loss = 0.2884213 val accuracy = 0.22435898\n",
      "epoch 2: train mean loss = 0.17861284 train accuracy = 0.48209876\n",
      "val loss = 0.28386563 val accuracy = 0.22836538\n",
      "epoch 3: train mean loss = 0.15325956 train accuracy = 0.55246913\n",
      "val loss = 0.28080928 val accuracy = 0.25440705\n",
      "epoch 4: train mean loss = 0.13507222 train accuracy = 0.61851853\n",
      "val loss = 0.27825218 val accuracy = 0.26602563\n",
      "epoch 5: train mean loss = 0.11893991 train accuracy = 0.6808642\n",
      "val loss = 0.27715242 val accuracy = 0.27123398\n",
      "epoch 6: train mean loss = 0.105513684 train accuracy = 0.7475309\n",
      "val loss = 0.27527303 val accuracy = 0.27003205\n",
      "epoch 7: train mean loss = 0.09541909 train accuracy = 0.7882716\n",
      "val loss = 0.27483872 val accuracy = 0.27123398\n",
      "epoch 8: train mean loss = 0.085875146 train accuracy = 0.8358025\n",
      "val loss = 0.2742748 val accuracy = 0.2752404\n",
      "epoch 9: train mean loss = 0.07846173 train accuracy = 0.8654321\n",
      "Final val loss = 0.2742748 val accuracy = 0.2752404\n",
      "Saving model...\n",
      "Done!\n"
     ]
    }
   ],
   "source": [
    "!python train_model.py --checkpoint-path {os.path.join(CHECKPOINTS_PATH, 'target_valid/catbreeds_to_dogbreeds/model')} \\\n",
    "                    --data-path {os.path.join(DATASET_PATH,'dogbreeds')} \\\n",
    "                    --mix-datasets \\\n",
    "                    --mix-data-path {os.path.join(DATASET_PATH,'catbreeds')} \\\n",
    "                    --hidden-units 32 \\\n",
    "                    --use-bias \\\n",
    "                    --freeze-output-layer \\\n",
    "                    --map-test-labels 1 0 2 3 4 \\\n",
    "                    --epochs 10 \\\n",
    "                    --val-freq 1 \\\n",
    "                    --optimizer adam \\\n",
    "                    --lr 0.0001 \\\n",
    "                    --shuffle \\\n",
    "                    --seed 0"
   ]
  },
  {
   "cell_type": "markdown",
   "metadata": {},
   "source": [
    "Train on *cat breeds* and validate on *butterflies*:"
   ]
  },
  {
   "cell_type": "code",
   "execution_count": 11,
   "metadata": {
    "pycharm": {
     "is_executing": false,
     "name": "#%% Validate on 'butterflies'\n"
    }
   },
   "outputs": [
    {
     "name": "stdout",
     "output_type": "stream",
     "text": [
      "2020-05-29 12:39:17.594295: I tensorflow/core/platform/cpu_feature_guard.cc:145] This TensorFlow binary is optimized with Intel(R) MKL-DNN to use the following CPU instructions in performance critical operations:  SSE4.1 SSE4.2 AVX AVX2 FMA\n",
      "To enable them in non-MKL-DNN operations, rebuild TensorFlow with the appropriate compiler flags.\n",
      "2020-05-29 12:39:17.594700: I tensorflow/core/common_runtime/process_util.cc:115] Creating new thread pool with default inter op setting: 12. Tune using inter_op_parallelism_threads for best performance.\n",
      "Input shape:  (1620, 25088)\n",
      "Model: \"one_hidden\"\n",
      "_________________________________________________________________\n",
      "Layer (type)                 Output Shape              Param #   \n",
      "=================================================================\n",
      "hidden_layer (Linear)        multiple                  802848    \n",
      "_________________________________________________________________\n",
      "output_layer (Linear)        multiple                  165       \n",
      "=================================================================\n",
      "Total params: 803,013\n",
      "Trainable params: 802,848\n",
      "Non-trainable params: 165\n",
      "_________________________________________________________________\n",
      "val loss = 0.29537886 val accuracy = 0.25360575\n",
      "epoch 0: train mean loss = 0.275201 train accuracy = 0.25555557\n",
      "val loss = 0.28742543 val accuracy = 0.26001602\n",
      "epoch 1: train mean loss = 0.21246846 train accuracy = 0.38271606\n",
      "val loss = 0.28265867 val accuracy = 0.2588141\n",
      "epoch 2: train mean loss = 0.17861284 train accuracy = 0.48209876\n",
      "val loss = 0.27847433 val accuracy = 0.2459936\n",
      "epoch 3: train mean loss = 0.15325956 train accuracy = 0.55246913\n",
      "val loss = 0.2759683 val accuracy = 0.2383814\n",
      "epoch 4: train mean loss = 0.13507222 train accuracy = 0.61851853\n",
      "val loss = 0.27487132 val accuracy = 0.23958333\n",
      "epoch 5: train mean loss = 0.11893991 train accuracy = 0.6808642\n",
      "val loss = 0.27417076 val accuracy = 0.22676282\n",
      "epoch 6: train mean loss = 0.105513684 train accuracy = 0.7475309\n",
      "val loss = 0.2730024 val accuracy = 0.23197114\n",
      "epoch 7: train mean loss = 0.09541909 train accuracy = 0.7882716\n",
      "val loss = 0.27229166 val accuracy = 0.22035258\n",
      "epoch 8: train mean loss = 0.085875146 train accuracy = 0.8358025\n",
      "val loss = 0.27131867 val accuracy = 0.22035258\n",
      "epoch 9: train mean loss = 0.07846173 train accuracy = 0.8654321\n",
      "Final val loss = 0.27131867 val accuracy = 0.22035258\n",
      "Saving model...\n",
      "Done!\n"
     ]
    }
   ],
   "source": [
    "!python train_model.py --checkpoint-path {os.path.join(CHECKPOINTS_PATH, 'target_valid/catbreeds_to_butterflies/model')} \\\n",
    "                    --data-path {os.path.join(DATASET_PATH,'butterflies')} \\\n",
    "                    --mix-datasets \\\n",
    "                    --mix-data-path {os.path.join(DATASET_PATH,'catbreeds')} \\\n",
    "                    --hidden-units 32 \\\n",
    "                    --use-bias \\\n",
    "                    --freeze-output-layer \\\n",
    "                    --epochs 10 \\\n",
    "                    --val-freq 1 \\\n",
    "                    --optimizer adam \\\n",
    "                    --lr 0.0001 \\\n",
    "                    --shuffle \\\n",
    "                    --seed 0"
   ]
  },
  {
   "cell_type": "markdown",
   "metadata": {},
   "source": [
    "Train on *cat breeds* and validate on *planes*:"
   ]
  },
  {
   "cell_type": "code",
   "execution_count": 12,
   "metadata": {
    "pycharm": {
     "is_executing": false,
     "name": "#%% Validate on 'planes'\n"
    }
   },
   "outputs": [
    {
     "name": "stdout",
     "output_type": "stream",
     "text": [
      "2020-05-29 12:40:22.585946: I tensorflow/core/platform/cpu_feature_guard.cc:145] This TensorFlow binary is optimized with Intel(R) MKL-DNN to use the following CPU instructions in performance critical operations:  SSE4.1 SSE4.2 AVX AVX2 FMA\n",
      "To enable them in non-MKL-DNN operations, rebuild TensorFlow with the appropriate compiler flags.\n",
      "2020-05-29 12:40:22.586325: I tensorflow/core/common_runtime/process_util.cc:115] Creating new thread pool with default inter op setting: 12. Tune using inter_op_parallelism_threads for best performance.\n",
      "Input shape:  (1620, 25088)\n",
      "Model: \"one_hidden\"\n",
      "_________________________________________________________________\n",
      "Layer (type)                 Output Shape              Param #   \n",
      "=================================================================\n",
      "hidden_layer (Linear)        multiple                  802848    \n",
      "_________________________________________________________________\n",
      "output_layer (Linear)        multiple                  165       \n",
      "=================================================================\n",
      "Total params: 803,013\n",
      "Trainable params: 802,848\n",
      "Non-trainable params: 165\n",
      "_________________________________________________________________\n",
      "val loss = 0.29929802 val accuracy = 0.1698718\n",
      "epoch 0: train mean loss = 0.275201 train accuracy = 0.25555557\n",
      "val loss = 0.29414454 val accuracy = 0.17508014\n",
      "epoch 1: train mean loss = 0.21246846 train accuracy = 0.38271606\n",
      "val loss = 0.28895035 val accuracy = 0.17508014\n",
      "epoch 2: train mean loss = 0.17861284 train accuracy = 0.48209876\n",
      "val loss = 0.2866362 val accuracy = 0.17628205\n",
      "epoch 3: train mean loss = 0.15325956 train accuracy = 0.55246913\n",
      "val loss = 0.28499806 val accuracy = 0.17628205\n",
      "epoch 4: train mean loss = 0.13507222 train accuracy = 0.61851853\n",
      "val loss = 0.2838205 val accuracy = 0.16586538\n",
      "epoch 5: train mean loss = 0.11893991 train accuracy = 0.6808642\n",
      "val loss = 0.28347835 val accuracy = 0.16586538\n",
      "epoch 6: train mean loss = 0.105513684 train accuracy = 0.7475309\n",
      "val loss = 0.2830465 val accuracy = 0.16065705\n",
      "epoch 7: train mean loss = 0.09541909 train accuracy = 0.7882716\n",
      "val loss = 0.2832807 val accuracy = 0.16065705\n",
      "epoch 8: train mean loss = 0.085875146 train accuracy = 0.8358025\n",
      "val loss = 0.2823683 val accuracy = 0.16586538\n",
      "epoch 9: train mean loss = 0.07846173 train accuracy = 0.8654321\n",
      "Final val loss = 0.2823683 val accuracy = 0.16586538\n",
      "Saving model...\n",
      "Done!\n"
     ]
    }
   ],
   "source": [
    "!python train_model.py --checkpoint-path {os.path.join(CHECKPOINTS_PATH, 'target_valid/catbreeds_to_planes/model')} \\\n",
    "                    --data-path {os.path.join(DATASET_PATH,'planes')} \\\n",
    "                    --mix-datasets \\\n",
    "                    --mix-data-path {os.path.join(DATASET_PATH,'catbreeds')} \\\n",
    "                    --hidden-units 32 \\\n",
    "                    --use-bias \\\n",
    "                    --freeze-output-layer \\\n",
    "                    --epochs 10 \\\n",
    "                    --val-freq 1 \\\n",
    "                    --optimizer adam \\\n",
    "                    --lr 0.0001 \\\n",
    "                    --shuffle \\\n",
    "                    --seed 0"
   ]
  },
  {
   "cell_type": "markdown",
   "metadata": {},
   "source": [
    "The following cell plots the results from the previous cells to reproduce Figure 1 in the paper."
   ]
  },
  {
   "cell_type": "code",
   "execution_count": 13,
   "metadata": {
    "pycharm": {
     "is_executing": false,
     "name": "#%% Plot results \n"
    }
   },
   "outputs": [
    {
     "name": "stderr",
     "output_type": "stream",
     "text": [
      "/Users/zalan/anaconda3/envs/tensorflow2/lib/python3.6/site-packages/ipykernel_launcher.py:25: MatplotlibDeprecationWarning: Adding an axes using the same arguments as a previous axes currently reuses the earlier instance.  In a future version, a new instance will always be created and returned.  Meanwhile, this warning can be suppressed, and the future behavior ensured, by passing a unique label to each axes instance.\n",
      "/Users/zalan/anaconda3/envs/tensorflow2/lib/python3.6/site-packages/ipykernel_launcher.py:30: MatplotlibDeprecationWarning: Adding an axes using the same arguments as a previous axes currently reuses the earlier instance.  In a future version, a new instance will always be created and returned.  Meanwhile, this warning can be suppressed, and the future behavior ensured, by passing a unique label to each axes instance.\n",
      "/Users/zalan/anaconda3/envs/tensorflow2/lib/python3.6/site-packages/ipykernel_launcher.py:35: MatplotlibDeprecationWarning: Adding an axes using the same arguments as a previous axes currently reuses the earlier instance.  In a future version, a new instance will always be created and returned.  Meanwhile, this warning can be suppressed, and the future behavior ensured, by passing a unique label to each axes instance.\n",
      "/Users/zalan/anaconda3/envs/tensorflow2/lib/python3.6/site-packages/ipykernel_launcher.py:41: MatplotlibDeprecationWarning: Adding an axes using the same arguments as a previous axes currently reuses the earlier instance.  In a future version, a new instance will always be created and returned.  Meanwhile, this warning can be suppressed, and the future behavior ensured, by passing a unique label to each axes instance.\n",
      "/Users/zalan/anaconda3/envs/tensorflow2/lib/python3.6/site-packages/ipykernel_launcher.py:25: MatplotlibDeprecationWarning: Adding an axes using the same arguments as a previous axes currently reuses the earlier instance.  In a future version, a new instance will always be created and returned.  Meanwhile, this warning can be suppressed, and the future behavior ensured, by passing a unique label to each axes instance.\n",
      "/Users/zalan/anaconda3/envs/tensorflow2/lib/python3.6/site-packages/ipykernel_launcher.py:30: MatplotlibDeprecationWarning: Adding an axes using the same arguments as a previous axes currently reuses the earlier instance.  In a future version, a new instance will always be created and returned.  Meanwhile, this warning can be suppressed, and the future behavior ensured, by passing a unique label to each axes instance.\n",
      "/Users/zalan/anaconda3/envs/tensorflow2/lib/python3.6/site-packages/ipykernel_launcher.py:35: MatplotlibDeprecationWarning: Adding an axes using the same arguments as a previous axes currently reuses the earlier instance.  In a future version, a new instance will always be created and returned.  Meanwhile, this warning can be suppressed, and the future behavior ensured, by passing a unique label to each axes instance.\n",
      "/Users/zalan/anaconda3/envs/tensorflow2/lib/python3.6/site-packages/ipykernel_launcher.py:41: MatplotlibDeprecationWarning: Adding an axes using the same arguments as a previous axes currently reuses the earlier instance.  In a future version, a new instance will always be created and returned.  Meanwhile, this warning can be suppressed, and the future behavior ensured, by passing a unique label to each axes instance.\n",
      "/Users/zalan/anaconda3/envs/tensorflow2/lib/python3.6/site-packages/ipykernel_launcher.py:25: MatplotlibDeprecationWarning: Adding an axes using the same arguments as a previous axes currently reuses the earlier instance.  In a future version, a new instance will always be created and returned.  Meanwhile, this warning can be suppressed, and the future behavior ensured, by passing a unique label to each axes instance.\n",
      "/Users/zalan/anaconda3/envs/tensorflow2/lib/python3.6/site-packages/ipykernel_launcher.py:30: MatplotlibDeprecationWarning: Adding an axes using the same arguments as a previous axes currently reuses the earlier instance.  In a future version, a new instance will always be created and returned.  Meanwhile, this warning can be suppressed, and the future behavior ensured, by passing a unique label to each axes instance.\n",
      "/Users/zalan/anaconda3/envs/tensorflow2/lib/python3.6/site-packages/ipykernel_launcher.py:35: MatplotlibDeprecationWarning: Adding an axes using the same arguments as a previous axes currently reuses the earlier instance.  In a future version, a new instance will always be created and returned.  Meanwhile, this warning can be suppressed, and the future behavior ensured, by passing a unique label to each axes instance.\n",
      "/Users/zalan/anaconda3/envs/tensorflow2/lib/python3.6/site-packages/ipykernel_launcher.py:41: MatplotlibDeprecationWarning: Adding an axes using the same arguments as a previous axes currently reuses the earlier instance.  In a future version, a new instance will always be created and returned.  Meanwhile, this warning can be suppressed, and the future behavior ensured, by passing a unique label to each axes instance.\n"
     ]
    },
    {
     "data": {
      "image/png": "[encoded data removed]",
      "text/plain": [
       "<Figure size 432x288 with 4 Axes>"
      ]
     },
     "metadata": {
      "needs_background": "light"
     },
     "output_type": "display_data"
    }
   ],
   "source": [
    "pathlist = Path(os.path.join(CHECKPOINTS_PATH, 'target_valid')).glob('**/*.npz')\n",
    "results = []\n",
    "target_dataset = []\n",
    "\n",
    "for path in pathlist:\n",
    "    r = np.load(path, allow_pickle=True)\n",
    "    results.append(r['arr_0'].item())\n",
    "    target_dataset.append(path.parent.name)\n",
    "\n",
    "legend_dict= {}\n",
    "for r, t in zip(results, target_dataset):\n",
    "    train_loss = r['train_loss']\n",
    "    train_acc = r['train_acc']\n",
    "    val_loss = r['val_loss']\n",
    "    val_acc = r['val_acc']\n",
    "\n",
    "    plt.figure(0)\n",
    "    plt.subplot(2, 2, 1)\n",
    "    plt.plot(train_loss, label=t)\n",
    "    plt.title('Train loss')\n",
    "\n",
    "    plt.subplot(2, 2, 2)\n",
    "    plt.plot(train_acc, label=t)\n",
    "    plt.title('Train acc.')\n",
    "\n",
    "    plt.subplot(2, 2, 3)\n",
    "    plt.plot(val_loss, label=t)\n",
    "    plt.legend(loc=\"upper right\", prop={'size': 6})\n",
    "    plt.title('Val loss')\n",
    "\n",
    "    plt.subplot(2, 2, 4)\n",
    "    plt.plot(val_acc)\n",
    "    plt.title('Val acc.')"
   ]
  }
 ],
 "metadata": {
  "kernelspec": {
   "display_name": "Python 3",
   "language": "python",
   "name": "python3"
  },
  "language_info": {
   "codemirror_mode": {
    "name": "ipython",
    "version": 3
   },
   "file_extension": ".py",
   "mimetype": "text/x-python",
   "name": "python",
   "nbconvert_exporter": "python",
   "pygments_lexer": "ipython3",
   "version": "3.6.10"
  },
  "pycharm": {
   "stem_cell": {
    "cell_type": "raw",
    "metadata": {
     "collapsed": false
    },
    "source": []
   }
  }
 },
 "nbformat": 4,
 "nbformat_minor": 1
}
